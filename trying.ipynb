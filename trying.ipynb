{
 "cells": [
  {
   "cell_type": "code",
   "id": "initial_id",
   "metadata": {
    "collapsed": true,
    "ExecuteTime": {
     "end_time": "2024-04-27T17:21:11.661035Z",
     "start_time": "2024-04-27T17:21:11.657944Z"
    }
   },
   "source": "import pandas as pd",
   "outputs": [],
   "execution_count": 20
  },
  {
   "metadata": {
    "ExecuteTime": {
     "end_time": "2024-04-27T18:19:28.483631Z",
     "start_time": "2024-04-27T18:19:28.477403Z"
    }
   },
   "cell_type": "code",
   "source": "data = pd.read_csv('./dataset/fwd.csv', delimiter=';')",
   "id": "b140678549470250",
   "outputs": [],
   "execution_count": 123
  },
  {
   "metadata": {
    "ExecuteTime": {
     "end_time": "2024-04-27T18:19:28.849907Z",
     "start_time": "2024-04-27T18:19:28.840124Z"
    }
   },
   "cell_type": "code",
   "source": "data",
   "id": "ddd57c7d157db6d1",
   "outputs": [
    {
     "data": {
      "text/plain": [
       "   arm                m1                m2                m3                m4\n",
       "0    1  93.59,0,-16.324;  93.59,10,16.324;   93.59,0,16.324;  93.59,0,-16.324;\n",
       "1    2  93.59,10,16.324;  93.59,0,-16.324;  93.59,0,-16.324;  93.59,10,16.324;\n",
       "2    3  93.59,0,-16.324;  93.59,10,16.324;   93.59,0,16.324;  93.59,0,-16.324;\n",
       "3    4   93.59,0,16.324;  93.59,0,-16.324;  93.59,0,-16.324;  93.59,10,16.324;"
      ],
      "text/html": [
       "<div>\n",
       "<style scoped>\n",
       "    .dataframe tbody tr th:only-of-type {\n",
       "        vertical-align: middle;\n",
       "    }\n",
       "\n",
       "    .dataframe tbody tr th {\n",
       "        vertical-align: top;\n",
       "    }\n",
       "\n",
       "    .dataframe thead th {\n",
       "        text-align: right;\n",
       "    }\n",
       "</style>\n",
       "<table border=\"1\" class=\"dataframe\">\n",
       "  <thead>\n",
       "    <tr style=\"text-align: right;\">\n",
       "      <th></th>\n",
       "      <th>arm</th>\n",
       "      <th>m1</th>\n",
       "      <th>m2</th>\n",
       "      <th>m3</th>\n",
       "      <th>m4</th>\n",
       "    </tr>\n",
       "  </thead>\n",
       "  <tbody>\n",
       "    <tr>\n",
       "      <th>0</th>\n",
       "      <td>1</td>\n",
       "      <td>93.59,0,-16.324;</td>\n",
       "      <td>93.59,10,16.324;</td>\n",
       "      <td>93.59,0,16.324;</td>\n",
       "      <td>93.59,0,-16.324;</td>\n",
       "    </tr>\n",
       "    <tr>\n",
       "      <th>1</th>\n",
       "      <td>2</td>\n",
       "      <td>93.59,10,16.324;</td>\n",
       "      <td>93.59,0,-16.324;</td>\n",
       "      <td>93.59,0,-16.324;</td>\n",
       "      <td>93.59,10,16.324;</td>\n",
       "    </tr>\n",
       "    <tr>\n",
       "      <th>2</th>\n",
       "      <td>3</td>\n",
       "      <td>93.59,0,-16.324;</td>\n",
       "      <td>93.59,10,16.324;</td>\n",
       "      <td>93.59,0,16.324;</td>\n",
       "      <td>93.59,0,-16.324;</td>\n",
       "    </tr>\n",
       "    <tr>\n",
       "      <th>3</th>\n",
       "      <td>4</td>\n",
       "      <td>93.59,0,16.324;</td>\n",
       "      <td>93.59,0,-16.324;</td>\n",
       "      <td>93.59,0,-16.324;</td>\n",
       "      <td>93.59,10,16.324;</td>\n",
       "    </tr>\n",
       "  </tbody>\n",
       "</table>\n",
       "</div>"
      ]
     },
     "execution_count": 124,
     "metadata": {},
     "output_type": "execute_result"
    }
   ],
   "execution_count": 124
  },
  {
   "metadata": {
    "ExecuteTime": {
     "end_time": "2024-04-27T18:31:16.911394Z",
     "start_time": "2024-04-27T18:31:16.905944Z"
    }
   },
   "cell_type": "code",
   "source": [
    "movement_seq = {\n",
    "    \"m1\": {\n",
    "        1: [[93.59, 0, -16.324, 'arm1'], [93.59, 0, -16.324, 'arm3']],\n",
    "        2: [[93.59, 10, 16.324, 'arm2'], [93.59, 0, 16.324, 'arm4']]\n",
    "    },\n",
    "    'm2': {\n",
    "        1: [[93.59, 10, 16.324, 'arm1'], [93.59, 10, 16.324, 'arm3']],\n",
    "        2: [[93.59, 0, -16.324, 'arm2'], [93.59, 0, -16.324, 'arm4']]\n",
    "    },\n",
    "    \"m3\": {\n",
    "        1: [[93.59, 0, 16.324, 'arm1'], [93.59, 0, 16.324, 'arm3']],\n",
    "        2: [[93.59, 0, -16.324, 'arm2'], [93.59, 0, -16.324, 'arm4']]\n",
    "    },\n",
    "    \"m4\": {\n",
    "        1: [[93.59, 0, -16.324, 'arm1'], [93.59, 0, -16.324, 'arm3']],\n",
    "        2: [[93.59, 10, 16.324, 'arm2'], [93.59, 10, 16.324, 'arm4']]\n",
    "    }\n",
    "}"
   ],
   "id": "9f768e5348c33760",
   "outputs": [],
   "execution_count": 132
  },
  {
   "metadata": {
    "ExecuteTime": {
     "end_time": "2024-04-27T18:35:50.832043Z",
     "start_time": "2024-04-27T18:35:50.826467Z"
    }
   },
   "cell_type": "code",
   "source": [
    "for i in movement_seq:\n",
    "    for j in movement_seq[i]:\n",
    "        t1, t2 = movement_seq[i][j]\n",
    "        print(t1, t2)\n",
    "        print()"
   ],
   "id": "b73c4a4f768144ff",
   "outputs": [
    {
     "name": "stdout",
     "output_type": "stream",
     "text": [
      "[93.59, 0, -16.324, 'arm1'] [93.59, 0, -16.324, 'arm3']\n",
      "\n",
      "[93.59, 10, 16.324, 'arm2'] [93.59, 0, 16.324, 'arm4']\n",
      "\n",
      "[93.59, 10, 16.324, 'arm1'] [93.59, 10, 16.324, 'arm3']\n",
      "\n",
      "[93.59, 0, -16.324, 'arm2'] [93.59, 0, -16.324, 'arm4']\n",
      "\n",
      "[93.59, 0, 16.324, 'arm1'] [93.59, 0, 16.324, 'arm3']\n",
      "\n",
      "[93.59, 0, -16.324, 'arm2'] [93.59, 0, -16.324, 'arm4']\n",
      "\n",
      "[93.59, 0, -16.324, 'arm1'] [93.59, 0, -16.324, 'arm3']\n",
      "\n",
      "[93.59, 10, 16.324, 'arm2'] [93.59, 10, 16.324, 'arm4']\n",
      "\n"
     ]
    }
   ],
   "execution_count": 142
  },
  {
   "metadata": {
    "ExecuteTime": {
     "end_time": "2024-04-27T18:34:29.194625Z",
     "start_time": "2024-04-27T18:34:29.176359Z"
    }
   },
   "cell_type": "code",
   "source": [
    "a = 12\n",
    "b = 31\n",
    "c = 22\n",
    "d = 'a'\n",
    "\n",
    "for w, x, y, z in zip(a, b, c, d):\n",
    "    print(w, x, y, z, sep='\\t')"
   ],
   "id": "4306a8592804d531",
   "outputs": [
    {
     "ename": "TypeError",
     "evalue": "'int' object is not iterable",
     "output_type": "error",
     "traceback": [
      "\u001B[1;31m---------------------------------------------------------------------------\u001B[0m",
      "\u001B[1;31mTypeError\u001B[0m                                 Traceback (most recent call last)",
      "Cell \u001B[1;32mIn[139], line 6\u001B[0m\n\u001B[0;32m      3\u001B[0m c \u001B[38;5;241m=\u001B[39m \u001B[38;5;241m22\u001B[39m\n\u001B[0;32m      4\u001B[0m d \u001B[38;5;241m=\u001B[39m \u001B[38;5;124m'\u001B[39m\u001B[38;5;124ma\u001B[39m\u001B[38;5;124m'\u001B[39m\n\u001B[1;32m----> 6\u001B[0m \u001B[38;5;28;01mfor\u001B[39;00m w, x, y, z \u001B[38;5;129;01min\u001B[39;00m \u001B[38;5;28;43mzip\u001B[39;49m\u001B[43m(\u001B[49m\u001B[43ma\u001B[49m\u001B[43m,\u001B[49m\u001B[43m \u001B[49m\u001B[43mb\u001B[49m\u001B[43m,\u001B[49m\u001B[43m \u001B[49m\u001B[43mc\u001B[49m\u001B[43m,\u001B[49m\u001B[43m \u001B[49m\u001B[43md\u001B[49m\u001B[43m)\u001B[49m:\n\u001B[0;32m      7\u001B[0m     \u001B[38;5;28mprint\u001B[39m(w, x, y, z, sep\u001B[38;5;241m=\u001B[39m\u001B[38;5;124m'\u001B[39m\u001B[38;5;130;01m\\t\u001B[39;00m\u001B[38;5;124m'\u001B[39m)\n",
      "\u001B[1;31mTypeError\u001B[0m: 'int' object is not iterable"
     ]
    }
   ],
   "execution_count": 139
  },
  {
   "metadata": {
    "ExecuteTime": {
     "end_time": "2024-04-27T18:43:16.188384Z",
     "start_time": "2024-04-27T18:43:16.184760Z"
    }
   },
   "cell_type": "code",
   "source": [
    "def convert_array(arr):\n",
    "    # Extracting columns\n",
    "    columns = [list(col) for col in zip(*arr)]\n",
    "    return columns[0], columns[1], columns[2], columns[3]"
   ],
   "id": "ab43fe4165ee68c2",
   "outputs": [],
   "execution_count": 145
  },
  {
   "metadata": {
    "ExecuteTime": {
     "end_time": "2024-04-27T18:43:16.854104Z",
     "start_time": "2024-04-27T18:43:16.849467Z"
    }
   },
   "cell_type": "code",
   "source": [
    "\n",
    "convert_array(movement_seq['m1'][1])"
   ],
   "id": "f9dec406c631ac3c",
   "outputs": [
    {
     "data": {
      "text/plain": [
       "([93.59, 93.59], [0, 0], [-16.324, -16.324], ['arm1', 'arm3'])"
      ]
     },
     "execution_count": 146,
     "metadata": {},
     "output_type": "execute_result"
    }
   ],
   "execution_count": 146
  },
  {
   "metadata": {
    "ExecuteTime": {
     "end_time": "2024-04-27T18:46:00.546808Z",
     "start_time": "2024-04-27T18:46:00.543225Z"
    }
   },
   "cell_type": "code",
   "source": "import math",
   "id": "4216414f272282d3",
   "outputs": [],
   "execution_count": 147
  },
  {
   "metadata": {
    "ExecuteTime": {
     "end_time": "2024-04-27T18:46:21.987317Z",
     "start_time": "2024-04-27T18:46:21.982335Z"
    }
   },
   "cell_type": "code",
   "source": "math.acos(-1) == math.cos(-1)**-1",
   "id": "d381d0bb564d6e7d",
   "outputs": [
    {
     "data": {
      "text/plain": [
       "False"
      ]
     },
     "execution_count": 148,
     "metadata": {},
     "output_type": "execute_result"
    }
   ],
   "execution_count": 148
  },
  {
   "metadata": {},
   "cell_type": "code",
   "outputs": [],
   "execution_count": null,
   "source": "",
   "id": "1e63da115591876"
  }
 ],
 "metadata": {
  "kernelspec": {
   "display_name": "Python 3",
   "language": "python",
   "name": "python3"
  },
  "language_info": {
   "codemirror_mode": {
    "name": "ipython",
    "version": 2
   },
   "file_extension": ".py",
   "mimetype": "text/x-python",
   "name": "python",
   "nbconvert_exporter": "python",
   "pygments_lexer": "ipython2",
   "version": "2.7.6"
  }
 },
 "nbformat": 4,
 "nbformat_minor": 5
}
